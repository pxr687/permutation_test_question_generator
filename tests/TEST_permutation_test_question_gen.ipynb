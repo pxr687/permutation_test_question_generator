{
 "cells": [
  {
   "cell_type": "markdown",
   "id": "frozen-bible",
   "metadata": {},
   "source": [
    "# Testing the p-value outputs of the Permutation Test Question Generator\n",
    "\n",
    "This notebook runs two simultaneous permutation tests over a number of iterations, in order to find the absolute difference of the p-values from each test.\n",
    "\n",
    "This is done to get an idea how how the difference between the pre-computed p-value and the user's p-value is distributed when the generator is run e.g. to work out how close the p-values should be to conclude that the user has done the test correctly when their p-value is compared to the pre-computed p-value."
   ]
  },
  {
   "cell_type": "code",
   "execution_count": 1,
   "id": "other-airport",
   "metadata": {},
   "outputs": [],
   "source": [
    "from TEST_permutation_test_question_generator import TEST_perm_question_cont_2_group, check_my_p_value\n",
    "import numpy as np\n",
    "import matplotlib.pyplot as plt"
   ]
  },
  {
   "cell_type": "code",
   "execution_count": 2,
   "id": "editorial-midnight",
   "metadata": {
    "scrolled": false
   },
   "outputs": [
    {
     "name": "stdout",
     "output_type": "stream",
     "text": [
      "0.0  % done.\n",
      "5.0  % done.\n",
      "10.0  % done.\n",
      "15.0  % done.\n",
      "20.0  % done.\n",
      "25.0  % done.\n",
      "30.0  % done.\n",
      "35.0  % done.\n",
      "40.0  % done.\n",
      "45.0  % done.\n",
      "50.0  % done.\n",
      "60.0  % done.\n",
      "65.0  % done.\n",
      "70.0  % done.\n",
      "75.0  % done.\n",
      "80.0  % done.\n",
      "85.0  % done.\n",
      "90.0  % done.\n",
      "95.0  % done.\n",
      "99.99  % done.\n"
     ]
    },
    {
     "data": {
      "image/png": "[encoded data removed]",
      "text/plain": [
       "<Figure size 432x288 with 1 Axes>"
      ]
     },
     "metadata": {
      "needs_background": "light"
     },
     "output_type": "display_data"
    },
    {
     "name": "stdout",
     "output_type": "stream",
     "text": [
      "The maximum absolute difference in p-values obtained over 10000 iterations of testing =  0.024499999999999966\n"
     ]
    },
    {
     "data": {
      "image/png": "[encoded data removed]",
      "text/plain": [
       "<Figure size 432x288 with 1 Axes>"
      ]
     },
     "metadata": {
      "needs_background": "light"
     },
     "output_type": "display_data"
    }
   ],
   "source": [
    "# how many iterations to test over\n",
    "test_iters = 10000\n",
    "\n",
    "# an array to store the absolute differences between the p-values\n",
    "results = np.zeros(test_iters)\n",
    "\n",
    "# array for results to check the distribution of p-values from each test\n",
    "p_values_array_1 = np.zeros(test_iters)\n",
    "\n",
    "p_values_array_2 = np.zeros(test_iters)\n",
    "\n",
    "# a two permutation tests on each iteration of the test\n",
    "for iteration in np.arange(test_iters):\n",
    "    \n",
    "    # show how far through the testing the routine is\n",
    "    if (iteration/test_iters * 100)%5 == 0 or iteration == test_iters-1:\n",
    "        print(iteration/test_iters * 100,' % done.')\n",
    "    \n",
    "    n_iters = 10000\n",
    "    \n",
    "    # first permutation test is done by this function, outputs the p-value 'answer_p'\n",
    "    # this is the pre-computed p-value, against which the user's p-value will be compared\n",
    "    answer_p, sample_1, sample_2 = TEST_perm_question_cont_2_group(n_iters)\n",
    "    \n",
    "    fake_differences = np.zeros(n_iters)\n",
    "    \n",
    "    # second permutation test (representing a test correctly done by the user)\n",
    "    for i in np.arange(n_iters):\n",
    "\n",
    "        together = np.append(sample_1, sample_2)\n",
    "\n",
    "        shuffled = np.random.permutation(together)\n",
    "\n",
    "        fake_1 = shuffled[:len(sample_1)]\n",
    "\n",
    "        fake_2 = shuffled[len(sample_1):]\n",
    "\n",
    "        fake_diff = fake_1.mean() - fake_2.mean()\n",
    "\n",
    "        fake_differences[i] = fake_diff\n",
    "\n",
    "    actual_diff = sample_1.mean() - sample_2.mean()\n",
    "    user_p = np.count_nonzero(fake_differences >= actual_diff)/10000\n",
    "    \n",
    "    # store the absolute difference between the p-values\n",
    "    results[iteration] = np.abs(answer_p - user_p)\n",
    "    \n",
    "    # store the p-values from each permutation test (to check what percentage of the time a sig. effect is generated)\n",
    "    p_values_array_1[iteration] = answer_p\n",
    "    p_values_array_2[iteration] = user_p\n",
    "    \n",
    "# show the distribution of p-value differences\n",
    "plt.figure()\n",
    "plt.title('Distribution of the absolute difference between the p-values\\n of two 10000 iteration permutation tests')\n",
    "plt.hist(results)\n",
    "plt.show()\n",
    "\n",
    "# show the maximum absolute difference between the p-values\n",
    "print('The maximum absolute difference in p-values obtained over '+str(test_iters)+' iterations of testing = ',np.max(results))\n",
    "\n",
    "# plot the distribution of p-values from both tests\n",
    "p_values_together = np.append(p_values_array_1, p_values_array_2)\n",
    "plt.figure()\n",
    "plt.title('Distribution of the p-values from '+str(test_iters*2)+' permutation tests')\n",
    "plt.hist(p_values_together)\n",
    "plt.show()"
   ]
  },
  {
   "cell_type": "code",
   "execution_count": 3,
   "id": "broke-europe",
   "metadata": {},
   "outputs": [
    {
     "data": {
      "text/plain": [
       "0.4637"
      ]
     },
     "execution_count": 3,
     "metadata": {},
     "output_type": "execute_result"
    }
   ],
   "source": [
    "# how many of times were the p-values significant, in both tests\n",
    "np.count_nonzero(p_values_together <= 0.05)/len(p_values_together)"
   ]
  },
  {
   "cell_type": "code",
   "execution_count": 5,
   "id": "technical-fault",
   "metadata": {},
   "outputs": [
    {
     "data": {
      "text/plain": [
       "0.0"
      ]
     },
     "execution_count": 5,
     "metadata": {},
     "output_type": "execute_result"
    }
   ],
   "source": [
    "# how many times was the absolute difference in p-values larger than 0.026 (the cutoff currently used in the p-value check)?\n",
    "\n",
    "np.count_nonzero(results >= 0.026)/len(results)"
   ]
  },
  {
   "cell_type": "code",
   "execution_count": null,
   "id": "straight-carpet",
   "metadata": {},
   "outputs": [],
   "source": []
  }
 ],
 "metadata": {
  "kernelspec": {
   "display_name": "Python 3",
   "language": "python",
   "name": "python3"
  },
  "language_info": {
   "codemirror_mode": {
    "name": "ipython",
    "version": 3
   },
   "file_extension": ".py",
   "mimetype": "text/x-python",
   "name": "python",
   "nbconvert_exporter": "python",
   "pygments_lexer": "ipython3",
   "version": "3.7.9"
  }
 },
 "nbformat": 4,
 "nbformat_minor": 5
}
