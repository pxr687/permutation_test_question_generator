{
 "cells": [
  {
   "cell_type": "markdown",
   "id": "complimentary-perfume",
   "metadata": {},
   "source": [
    "# Permutation Test Question Generator\n",
    "\n",
    "This notebook will generate questions for you to practice permutation testing with. If you are using this notebook on Deepnote, please press the 'Duplicate' button at the top of the screen, and copy the project to your own user area, so that you can run the code to generate the questions.\n",
    "\n",
    "Please see the textbook chapter [Populations and permutations](https://uob-ds.github.io/cfd2021/permutation/permutation.html) for detailed instructions about how to carry out permutation testing.\n",
    "\n",
    "Run the cell below to import the functions needed for the rest of the notebook. <b>Please do not change the code in the cell, just run it. </b>"
   ]
  },
  {
   "cell_type": "code",
   "execution_count": null,
   "id": "sought-mitchell",
   "metadata": {},
   "outputs": [],
   "source": [
    "# do not change the code in this cell, just run it\n",
    "from permutation_test_question_generator import perm_question_cont_2_group, check_my_p_value"
   ]
  },
  {
   "cell_type": "markdown",
   "id": "different-export",
   "metadata": {},
   "source": [
    "## Question 1\n",
    "\n",
    "Run the cell below to generate the question (<b>please do not change the code in the cell, just run it</b>).\n",
    "\n",
    "This cell below will generate the data for you to permutation test, and it will print out a set of instructions for which hypothesis you should test. \n",
    "\n",
    "Every time you re-run this cell, it will generate a new question, so you can practice as many times as you like, and the data will be different each time..."
   ]
  },
  {
   "cell_type": "code",
   "execution_count": null,
   "id": "unlimited-satellite",
   "metadata": {
    "scrolled": false
   },
   "outputs": [],
   "source": [
    "# do not change the code in this cell, just run it to generate a new question\n",
    "df, answer_p, hint_test, hint_p_value = perm_question_cont_2_group()"
   ]
  },
  {
   "cell_type": "code",
   "execution_count": null,
   "id": "intensive-reform",
   "metadata": {},
   "outputs": [],
   "source": [
    "# running this cell will show you the raw data, which is stored in a variable called `df`\n",
    "df"
   ]
  },
  {
   "cell_type": "markdown",
   "id": "antique-drink",
   "metadata": {},
   "source": [
    "## Perform your permutation test in the cell below:"
   ]
  },
  {
   "cell_type": "code",
   "execution_count": null,
   "id": "muslim-rescue",
   "metadata": {
    "scrolled": true
   },
   "outputs": [],
   "source": [
    "# your permutation test here\n",
    "\n",
    "import numpy as np\n",
    "import pandas as pd\n",
    "import matplotlib.pyplot as plt\n",
    "\n",
    "\n",
    "actual_mean_difference = ...\n",
    "\n",
    "number_of_iterations = 10000\n",
    "\n",
    "results_array = ...\n",
    "\n",
    "for i in ...\n",
    "    \n",
    "\n",
    "# calculate and store your p-value here  \n",
    "my_p_value = ...\n",
    "\n",
    "# show your p-value\n",
    "my_p_value"
   ]
  },
  {
   "cell_type": "code",
   "execution_count": null,
   "id": "cloudy-dependence",
   "metadata": {},
   "outputs": [],
   "source": [
    "# use this cell as a scratchpad, e.g. if you want to check the value of the of a specific variable, such as the actual\n",
    "# mean difference, then check the value in this cell"
   ]
  },
  {
   "cell_type": "code",
   "execution_count": null,
   "id": "oriental-mineral",
   "metadata": {},
   "outputs": [],
   "source": [
    "# run this cell if you need a hint about how to do the permutation test\n",
    "print(hint_test)"
   ]
  },
  {
   "cell_type": "code",
   "execution_count": null,
   "id": "increasing-stress",
   "metadata": {},
   "outputs": [],
   "source": [
    "# run this cell if you need a hint about how to calculate the p-value\n",
    "print(hint_p_value)"
   ]
  },
  {
   "cell_type": "markdown",
   "id": "disabled-avatar",
   "metadata": {},
   "source": [
    "## Check your answer \n",
    "\n",
    "Check your answer to Question 1 using the cell below. <b> Do not change the code in the cell, just run it: </b>\n",
    "\n",
    "*Note: you <b> must </b> save the p-value from your permutation test as a variable called `my_p_value` for the marking to work correctly.*"
   ]
  },
  {
   "cell_type": "code",
   "execution_count": null,
   "id": "realistic-stretch",
   "metadata": {},
   "outputs": [],
   "source": [
    "# do not change the code in this cell, run it to check your answer\n",
    "check_my_p_value(answer_p, my_p_value)"
   ]
  },
  {
   "cell_type": "markdown",
   "id": "opposite-resource",
   "metadata": {},
   "source": [
    "***\n",
    "by pxr687"
   ]
  }
 ],
 "metadata": {
  "kernelspec": {
   "display_name": "Python 3",
   "language": "python",
   "name": "python3"
  },
  "language_info": {
   "codemirror_mode": {
    "name": "ipython",
    "version": 3
   },
   "file_extension": ".py",
   "mimetype": "text/x-python",
   "name": "python",
   "nbconvert_exporter": "python",
   "pygments_lexer": "ipython3",
   "version": "3.7.9"
  }
 },
 "nbformat": 4,
 "nbformat_minor": 5
}
